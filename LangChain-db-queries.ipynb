{
  "cells": [
    {
      "cell_type": "code",
      "execution_count": null,
      "metadata": {
        "colab": {
          "base_uri": "https://localhost:8080/"
        },
        "id": "nac2ECaABIkf",
        "outputId": "90b9a74e-d4f4-47ef-86d2-3e03daaf941c"
      },
      "outputs": [],
      "source": [
        "# install requirements, use Python 3.9\n",
        "!pip3 install -r requirements.txt"
      ]
    },
    {
      "cell_type": "markdown",
      "metadata": {},
      "source": [
        "### Load data"
      ]
    },
    {
      "cell_type": "code",
      "execution_count": null,
      "metadata": {
        "id": "GziaVTDwkFzs"
      },
      "outputs": [],
      "source": [
        "from langchain.document_loaders import DirectoryLoader\n",
        "\n",
        "#link doc arcive\n",
        "data_folder = './...'\n",
        "\n",
        "loader = DirectoryLoader(data_folder)\n",
        "raw_documents = loader.load()"
      ]
    },
    {
      "cell_type": "code",
      "execution_count": null,
      "metadata": {
        "colab": {
          "base_uri": "https://localhost:8080/"
        },
        "id": "LnhrCAbCBIkh",
        "outputId": "504e93c3-e64c-4b7a-8ab1-d5e9a98c3a28"
      },
      "outputs": [],
      "source": [
        "print(\"Size raw documents: \",len(raw_documents))"
      ]
    },
    {
      "cell_type": "markdown",
      "metadata": {
        "id": "He7VWDFNBIki"
      },
      "source": [
        "### Slice the documents"
      ]
    },
    {
      "cell_type": "code",
      "execution_count": null,
      "metadata": {
        "id": "Xh4z8-vqBIki"
      },
      "outputs": [],
      "source": [
        "# Import RecursiveCharacterTextSplitter\n",
        "from langchain.text_splitter import RecursiveCharacterTextSplitter\n",
        "\n",
        "# Create the text splitter\n",
        "splitter = RecursiveCharacterTextSplitter(\n",
        "    chunk_size=1000,\n",
        "    chunk_overlap=200\n",
        ")\n",
        "\n",
        "# Split the documents\n",
        "documents = splitter.split_documents(raw_documents)\n",
        "\n",
        "print(\"Size documents: \",len(documents))"
      ]
    },
    {
      "cell_type": "markdown",
      "metadata": {
        "id": "l7EUY8sNBIkj"
      },
      "source": [
        "### Embed the documents and store embeddings in the vector database\n"
      ]
    },
    {
      "cell_type": "code",
      "execution_count": null,
      "metadata": {
        "id": "sONaWcPTiAnJ"
      },
      "outputs": [],
      "source": [
        "from langchain.embeddings.openai import OpenAIEmbeddings\n",
        "import os\n",
        "\n",
        "os.environ[\"OPENAI_API_KEY\"]=\"...\"\n"
      ]
    },
    {
      "cell_type": "code",
      "execution_count": null,
      "metadata": {
        "id": "2BYreosBBIkk"
      },
      "outputs": [],
      "source": [
        "# Import Chromadb and OpenAIEmbeddings\n",
        "from langchain.vectorstores import Chroma\n",
        "from langchain.embeddings.openai import OpenAIEmbeddings\n",
        "import chromadb\n",
        "\n",
        "# Create the mebedding function\n",
        "embedding_function = OpenAIEmbeddings(deployment=\"text-embedding-ada-002\",chunk_size = 1)"
      ]
    },
    {
      "cell_type": "code",
      "execution_count": null,
      "metadata": {
        "id": "UfehzLC7BIkk"
      },
      "outputs": [],
      "source": [
        "# Create a database from the documents and embedding function\n",
        "db = Chroma.from_documents(documents=documents, embedding=embedding_function, persist_directory=\"my-embeddings\")\n",
        "\n",
        "# Persist the data to disk\n",
        "db.persist()\n",
        "\n",
        "# load vector database\n",
        "db = Chroma(persist_directory=\"my-embeddings\", \n",
        "       embedding_function=OpenAIEmbeddings(deployment=\"text-embedding-ada-002\",chunk_size = 1))"
      ]
    },
    {
      "cell_type": "markdown",
      "metadata": {
        "id": "MhNDpdrpBIkk"
      },
      "source": [
        "#### Query the database"
      ]
    },
    {
      "cell_type": "code",
      "execution_count": null,
      "metadata": {
        "colab": {
          "base_uri": "https://localhost:8080/"
        },
        "id": "AAUVrE2tBIkl",
        "outputId": "f1075d97-8914-484c-fd93-cddf9822261a"
      },
      "outputs": [],
      "source": [
        "db.get()['documents']"
      ]
    },
    {
      "cell_type": "code",
      "execution_count": null,
      "metadata": {
        "id": "B7QxDzg4BIkl"
      },
      "outputs": [],
      "source": [
        "# Specify query\n",
        "query = \"...\"\n",
        "\n",
        "# Call the `similarity_search_with_score` method on `db`\n",
        "results = db.similarity_search_with_relevance_scores(query, k = 5)\n",
        "\n",
        "# Print the results\n",
        "for (doc, score) in results:\n",
        "    print('score', score)\n",
        "    print(doc.page_content)\n",
        "    print('-----------------')"
      ]
    }
  ],
  "metadata": {
    "colab": {
      "provenance": []
    },
    "kernelspec": {
      "display_name": "env-rag",
      "language": "python",
      "name": "python3"
    },
    "language_info": {
      "codemirror_mode": {
        "name": "ipython",
        "version": 3
      },
      "file_extension": ".py",
      "mimetype": "text/x-python",
      "name": "python",
      "nbconvert_exporter": "python",
      "pygments_lexer": "ipython3",
      "version": "3.9.6"
    },
    "orig_nbformat": 4
  },
  "nbformat": 4,
  "nbformat_minor": 0
}
